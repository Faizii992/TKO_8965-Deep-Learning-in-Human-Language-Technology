{
  "nbformat": 4,
  "nbformat_minor": 0,
  "metadata": {
    "colab": {
      "provenance": [],
      "gpuType": "T4"
    },
    "kernelspec": {
      "name": "python3",
      "display_name": "Python 3"
    },
    "language_info": {
      "name": "python"
    },
    "accelerator": "GPU"
  },
  "cells": [
    {
      "cell_type": "code",
      "execution_count": null,
      "metadata": {
        "colab": {
          "base_uri": "https://localhost:8080/"
        },
        "id": "8eWNrhr9u246",
        "outputId": "a693ac97-950c-4949-dd59-f580566c1755"
      },
      "outputs": [
        {
          "output_type": "stream",
          "name": "stdout",
          "text": [
            "Requirement already satisfied: transformers in /usr/local/lib/python3.10/dist-packages (4.34.0)\n",
            "Requirement already satisfied: filelock in /usr/local/lib/python3.10/dist-packages (from transformers) (3.12.2)\n",
            "Requirement already satisfied: huggingface-hub<1.0,>=0.16.4 in /usr/local/lib/python3.10/dist-packages (from transformers) (0.16.4)\n",
            "Requirement already satisfied: numpy>=1.17 in /usr/local/lib/python3.10/dist-packages (from transformers) (1.23.5)\n",
            "Requirement already satisfied: packaging>=20.0 in /usr/local/lib/python3.10/dist-packages (from transformers) (23.1)\n",
            "Requirement already satisfied: pyyaml>=5.1 in /usr/local/lib/python3.10/dist-packages (from transformers) (6.0.1)\n",
            "Requirement already satisfied: regex!=2019.12.17 in /usr/local/lib/python3.10/dist-packages (from transformers) (2023.6.3)\n",
            "Requirement already satisfied: requests in /usr/local/lib/python3.10/dist-packages (from transformers) (2.31.0)\n",
            "Requirement already satisfied: tokenizers<0.15,>=0.14 in /usr/local/lib/python3.10/dist-packages (from transformers) (0.14.0)\n",
            "Requirement already satisfied: safetensors>=0.3.1 in /usr/local/lib/python3.10/dist-packages (from transformers) (0.3.3)\n",
            "Requirement already satisfied: tqdm>=4.27 in /usr/local/lib/python3.10/dist-packages (from transformers) (4.66.1)\n",
            "Requirement already satisfied: fsspec in /usr/local/lib/python3.10/dist-packages (from huggingface-hub<1.0,>=0.16.4->transformers) (2023.6.0)\n",
            "Requirement already satisfied: typing-extensions>=3.7.4.3 in /usr/local/lib/python3.10/dist-packages (from huggingface-hub<1.0,>=0.16.4->transformers) (4.5.0)\n",
            "Requirement already satisfied: charset-normalizer<4,>=2 in /usr/local/lib/python3.10/dist-packages (from requests->transformers) (3.2.0)\n",
            "Requirement already satisfied: idna<4,>=2.5 in /usr/local/lib/python3.10/dist-packages (from requests->transformers) (3.4)\n",
            "Requirement already satisfied: urllib3<3,>=1.21.1 in /usr/local/lib/python3.10/dist-packages (from requests->transformers) (2.0.4)\n",
            "Requirement already satisfied: certifi>=2017.4.17 in /usr/local/lib/python3.10/dist-packages (from requests->transformers) (2023.7.22)\n"
          ]
        }
      ],
      "source": [
        "# Install the required library\n",
        "!pip install transformers\n",
        "\n",
        "# Import necessary libraries\n",
        "from transformers import pipeline\n",
        "\n",
        "# Define the task and the model\n"
      ]
    },
    {
      "cell_type": "code",
      "source": [],
      "metadata": {
        "id": "EZcGR7KuvsKH"
      },
      "execution_count": null,
      "outputs": []
    },
    {
      "cell_type": "markdown",
      "source": [
        "# Topic Chosen: Named Entity Recognition(NER) of simple questions (capital cities, currency, president...)"
      ],
      "metadata": {
        "id": "qO1ORawMvsqh"
      }
    },
    {
      "cell_type": "code",
      "source": [
        "task = \"ner\"\n",
        "model_name = \"EleutherAI/gpt-neo-125M\"\n",
        "# Creating a pipeline for text classification\n",
        "clf = pipeline(task, model=model_name)\n",
        "\n"
      ],
      "metadata": {
        "colab": {
          "base_uri": "https://localhost:8080/"
        },
        "id": "tu3bDMh0vKP1",
        "outputId": "9d5d720b-5823-4ce6-f2a1-994865e51275"
      },
      "execution_count": null,
      "outputs": [
        {
          "output_type": "stream",
          "name": "stderr",
          "text": [
            "Some weights of GPTNeoForTokenClassification were not initialized from the model checkpoint at EleutherAI/gpt-neo-125M and are newly initialized: ['classifier.bias', 'classifier.weight']\n",
            "You should probably TRAIN this model on a down-stream task to be able to use it for predictions and inference.\n"
          ]
        }
      ]
    },
    {
      "cell_type": "code",
      "source": [
        "\n",
        "one_shot_eg = [\"Euro is the currency of Finland.\", \"Dhaka is capital of Bangladesh.\"]\n",
        "few_shot_eg = [ \"Currency of bangladesh is Taka.\", \"President of bangladesh is Mohammed Shahabuddin.\",\"President of Finland is Sauli Niinistö.\"]\n",
        "zero_shot_eg = \"Capital of Finland is Helsinki.\""
      ],
      "metadata": {
        "id": "DfLxhdXrOwOS"
      },
      "execution_count": null,
      "outputs": []
    },
    {
      "cell_type": "code",
      "source": [
        "\n",
        "\n",
        "# Test the model in zero-shot, one-shot, and few-shot settings\n",
        "\n",
        "one_shot_results = clf(one_shot_eg)\n",
        "zero_shot_results = clf(zero_shot_eg)\n",
        "few_shot_results = clf(few_shot_eg)\n",
        "\n",
        "# Display the results\n",
        "\n",
        "\n",
        "print(\"Zero-shot:\")\n",
        "print(zero_shot_results)\n",
        "\n",
        "print(\"One-shot:\")\n",
        "print(one_shot_results)\n",
        "\n",
        "\n",
        "print(\"Few-shot:\")\n",
        "print(few_shot_results)\n",
        "\n"
      ],
      "metadata": {
        "id": "kq4xdLz5u8Ft",
        "colab": {
          "base_uri": "https://localhost:8080/"
        },
        "outputId": "618f4d86-6224-40f0-8a97-0e0f4dc4c82c"
      },
      "execution_count": null,
      "outputs": [
        {
          "output_type": "stream",
          "name": "stdout",
          "text": [
            "Zero-shot:\n",
            "[{'entity': 'LABEL_1', 'score': 0.83482426, 'index': 0, 'word': 'Capital', 'start': 0, 'end': 7}, {'entity': 'LABEL_0', 'score': 0.63519174, 'index': 1, 'word': 'Ġof', 'start': 7, 'end': 10}, {'entity': 'LABEL_0', 'score': 0.76508904, 'index': 2, 'word': 'ĠFinland', 'start': 10, 'end': 18}, {'entity': 'LABEL_1', 'score': 0.77254236, 'index': 3, 'word': 'Ġis', 'start': 18, 'end': 21}, {'entity': 'LABEL_1', 'score': 0.6456512, 'index': 4, 'word': 'ĠHelsinki', 'start': 21, 'end': 30}, {'entity': 'LABEL_0', 'score': 0.9664874, 'index': 5, 'word': '.', 'start': 30, 'end': 31}]\n",
            "One-shot:\n",
            "[[{'entity': 'LABEL_1', 'score': 0.61176676, 'index': 0, 'word': 'Euro', 'start': 0, 'end': 4}, {'entity': 'LABEL_1', 'score': 0.89224166, 'index': 1, 'word': 'Ġis', 'start': 4, 'end': 7}, {'entity': 'LABEL_1', 'score': 0.7409194, 'index': 2, 'word': 'Ġthe', 'start': 7, 'end': 11}, {'entity': 'LABEL_1', 'score': 0.56401205, 'index': 3, 'word': 'Ġcurrency', 'start': 11, 'end': 20}, {'entity': 'LABEL_1', 'score': 0.7606001, 'index': 4, 'word': 'Ġof', 'start': 20, 'end': 23}, {'entity': 'LABEL_0', 'score': 0.88982946, 'index': 5, 'word': 'ĠFinland', 'start': 23, 'end': 31}, {'entity': 'LABEL_0', 'score': 0.99198395, 'index': 6, 'word': '.', 'start': 31, 'end': 32}], [{'entity': 'LABEL_0', 'score': 0.99708885, 'index': 0, 'word': 'D', 'start': 0, 'end': 1}, {'entity': 'LABEL_0', 'score': 0.996739, 'index': 1, 'word': 'h', 'start': 1, 'end': 2}, {'entity': 'LABEL_0', 'score': 0.7082583, 'index': 2, 'word': 'aka', 'start': 2, 'end': 5}, {'entity': 'LABEL_1', 'score': 0.88735557, 'index': 3, 'word': 'Ġis', 'start': 5, 'end': 8}, {'entity': 'LABEL_1', 'score': 0.615279, 'index': 4, 'word': 'Ġcapital', 'start': 8, 'end': 16}, {'entity': 'LABEL_0', 'score': 0.6796674, 'index': 5, 'word': 'Ġof', 'start': 16, 'end': 19}, {'entity': 'LABEL_0', 'score': 0.62506866, 'index': 6, 'word': 'ĠBangladesh', 'start': 19, 'end': 30}, {'entity': 'LABEL_0', 'score': 0.96668845, 'index': 7, 'word': '.', 'start': 30, 'end': 31}]]\n",
            "Few-shot:\n",
            "[[{'entity': 'LABEL_0', 'score': 0.9994024, 'index': 0, 'word': 'C', 'start': 0, 'end': 1}, {'entity': 'LABEL_1', 'score': 0.8261801, 'index': 1, 'word': 'urrency', 'start': 1, 'end': 8}, {'entity': 'LABEL_0', 'score': 0.53685206, 'index': 2, 'word': 'Ġof', 'start': 8, 'end': 11}, {'entity': 'LABEL_1', 'score': 0.9355671, 'index': 3, 'word': 'Ġbang', 'start': 11, 'end': 16}, {'entity': 'LABEL_0', 'score': 0.85159403, 'index': 4, 'word': 'l', 'start': 16, 'end': 17}, {'entity': 'LABEL_0', 'score': 0.58823526, 'index': 5, 'word': 'adesh', 'start': 17, 'end': 22}, {'entity': 'LABEL_1', 'score': 0.7730191, 'index': 6, 'word': 'Ġis', 'start': 22, 'end': 25}, {'entity': 'LABEL_0', 'score': 0.9840604, 'index': 7, 'word': 'ĠT', 'start': 25, 'end': 27}, {'entity': 'LABEL_0', 'score': 0.7844937, 'index': 8, 'word': 'aka', 'start': 27, 'end': 30}, {'entity': 'LABEL_0', 'score': 0.98757637, 'index': 9, 'word': '.', 'start': 30, 'end': 31}], [{'entity': 'LABEL_1', 'score': 0.6260524, 'index': 0, 'word': 'President', 'start': 0, 'end': 9}, {'entity': 'LABEL_0', 'score': 0.6997407, 'index': 1, 'word': 'Ġof', 'start': 9, 'end': 12}, {'entity': 'LABEL_1', 'score': 0.88204354, 'index': 2, 'word': 'Ġbang', 'start': 12, 'end': 17}, {'entity': 'LABEL_0', 'score': 0.81149834, 'index': 3, 'word': 'l', 'start': 17, 'end': 18}, {'entity': 'LABEL_1', 'score': 0.7165442, 'index': 4, 'word': 'adesh', 'start': 18, 'end': 23}, {'entity': 'LABEL_1', 'score': 0.8969149, 'index': 5, 'word': 'Ġis', 'start': 23, 'end': 26}, {'entity': 'LABEL_0', 'score': 0.6782471, 'index': 6, 'word': 'ĠMohammed', 'start': 26, 'end': 35}, {'entity': 'LABEL_0', 'score': 0.7056431, 'index': 7, 'word': 'ĠShah', 'start': 35, 'end': 40}, {'entity': 'LABEL_0', 'score': 0.83254236, 'index': 8, 'word': 'ab', 'start': 40, 'end': 42}, {'entity': 'LABEL_0', 'score': 0.812576, 'index': 9, 'word': 'uddin', 'start': 42, 'end': 47}, {'entity': 'LABEL_0', 'score': 0.97635686, 'index': 10, 'word': '.', 'start': 47, 'end': 48}], [{'entity': 'LABEL_1', 'score': 0.6260524, 'index': 0, 'word': 'President', 'start': 0, 'end': 9}, {'entity': 'LABEL_0', 'score': 0.6997407, 'index': 1, 'word': 'Ġof', 'start': 9, 'end': 12}, {'entity': 'LABEL_0', 'score': 0.7809685, 'index': 2, 'word': 'ĠFinland', 'start': 12, 'end': 20}, {'entity': 'LABEL_1', 'score': 0.60123914, 'index': 3, 'word': 'Ġis', 'start': 20, 'end': 23}, {'entity': 'LABEL_0', 'score': 0.5598209, 'index': 4, 'word': 'ĠSaul', 'start': 23, 'end': 28}, {'entity': 'LABEL_0', 'score': 0.55485475, 'index': 5, 'word': 'i', 'start': 28, 'end': 29}, {'entity': 'LABEL_0', 'score': 0.9270258, 'index': 6, 'word': 'ĠNi', 'start': 29, 'end': 32}, {'entity': 'LABEL_0', 'score': 0.5807675, 'index': 7, 'word': 'in', 'start': 32, 'end': 34}, {'entity': 'LABEL_0', 'score': 0.90031224, 'index': 8, 'word': 'ist', 'start': 34, 'end': 37}, {'entity': 'LABEL_0', 'score': 0.84382045, 'index': 9, 'word': 'Ã¶', 'start': 37, 'end': 38}, {'entity': 'LABEL_0', 'score': 0.991117, 'index': 10, 'word': '.', 'start': 38, 'end': 39}]]\n"
          ]
        }
      ]
    },
    {
      "cell_type": "markdown",
      "source": [
        "# Summary of Findings:\n",
        "\n",
        "\n",
        "Using the examples above, here's a quick rundown of how the zero-shot, one-shot, and few-shot settings function with the gpt-neo-2.7B model:\n",
        "\n",
        "In all situations, the gpt-neo-125M model generates replies to Named Entity Recognition(NER) tasks using its pre-trained knowledge and the information supplied in the prompt and examples. The complexity and correctness of the responses might vary depending on the prompt's specificity and the quality of the examples offered.\n",
        "\n",
        "# Setting for a Zero Shot:\n",
        "  ###  The model is given a prompt and a collection of NER tasks in the zero-shot scenario, but no particular training examples are provided.\n",
        "\n",
        "# Setting for a single shot:\n",
        "\n",
        "   ### For each question, the model is given a prompt and a single example in the one-shot context. Each NER task is followed by a context statement containing pertinent information.\n",
        "\n",
        "#Few-Shot scenario:\n",
        "\n",
        "### The model is given a prompt and a few examples for each question in the few-shot scenario. Each question is accompanied by many context statements, offering a more comprehensive background for replying. These examples are used by the model to create responses to the questions.  \n",
        "\n",
        "\n",
        "\n",
        "        "
      ],
      "metadata": {
        "id": "40w15qc5vTxp"
      }
    },
    {
      "cell_type": "code",
      "source": [],
      "metadata": {
        "id": "8GXuZDCvTsNq"
      },
      "execution_count": null,
      "outputs": []
    }
  ]
}